{
 "cells": [
  {
   "cell_type": "markdown",
   "metadata": {
    "id": "dzV6a6nTByTS"
   },
   "source": [
    "# COMPSCI 714 - Assignment 2\n",
    "\n",
    "The goal of this assignment is to evaluate your ability to **implement, train and evaluate a specified CNN architecture** on a specific dataset, and make changes to improve the baseline performance.\n",
    "\n",
    "In the first part of the assignment, you will need to implement the LeNet-5 CNN architecture and train it on the CIFAR-10 dataset. This will give you a baseline performance.\n",
    "\n",
    "In the second part of the assignment, you will need to implement changes to improve this baseline."
   ]
  },
  {
   "cell_type": "markdown",
   "metadata": {
    "id": "bYT9tfGvCJJM"
   },
   "source": [
    "**Name**:\n",
    "\n",
    "**UPI**:\n",
    "\n",
    "**Student ID**:"
   ]
  },
  {
   "cell_type": "markdown",
   "metadata": {
    "id": "7-NdXgTeChkI"
   },
   "source": [
    "## **Part 1: Implementing and evaluating the baseline** - 5 marks\n",
    "\n",
    "For the first part of the assignment, you have to implement the LeNet-5 architecture (from [LeCun et al., 1998](http://vision.stanford.edu/cs598_spring07/papers/Lecun98.pdf)), and train it on the CIFAR10 dataset. "
   ]
  },
  {
   "cell_type": "markdown",
   "metadata": {},
   "source": [
    "![LeNet5 Architecture](image-5.png)"
   ]
  },
  {
   "cell_type": "markdown",
   "metadata": {},
   "source": [
    "## Task 1.1: Load, prepare and split the data - 1 mark\n",
    "\n",
    "For this assignment, you will use the CIFAR-10 dataset. It consists of 60000 32x32 colour images (RGB) divided in 10 mutually exclusive classes, with 6000 images per class. There are 50000 training images and 10000 test images. More information about the dataset (including the different classes with sample images) can be found at the following links.\n",
    "- [Link to CIFAR-10 homepage](https://www.cs.toronto.edu/~kriz/cifar.html)\n",
    "- [Link to the documentation on Paper With CodeLinks to an external site.](https://paperswithcode.com/dataset/cifar-10)\n",
    "\n",
    "**Task deliverables**:\n",
    "- Load the train and test datasets from `torchvision.datasets.CIFAR10`.\n",
    "- Normalise the pixel values between 0 and 1.\n",
    "- Split the train set in train and validation sets, with 80% of the data for training and 20% for validation.\n",
    "- Create dataloaders with a batch size of 32. \n",
    "\n",
    "Notes:\n",
    "- You can split the training set randomly, i.e., it is not required to handle any potential class imbalance for this task."
   ]
  },
  {
   "cell_type": "code",
   "execution_count": 1,
   "metadata": {},
   "outputs": [
    {
     "name": "stdout",
     "output_type": "stream",
     "text": [
      "Files already downloaded and verified\n",
      "Files already downloaded and verified\n"
     ]
    }
   ],
   "source": [
    "import torch\n",
    "from torch.utils.data import DataLoader, random_split\n",
    "from torchvision import datasets, transforms\n",
    "from torchvision.transforms import ToTensor\n",
    "\n",
    "# Setup training data\n",
    "train_data_full = datasets.CIFAR10(\n",
    "            root=\"data\",\n",
    "            train=True,\n",
    "            download=True,\n",
    "            transform=ToTensor(), # convert to tensor and normalize between range 0 and 1\n",
    "            target_transform=None\n",
    ")\n",
    "\n",
    "# Setup testing data\n",
    "test_data = datasets.CIFAR10(\n",
    "            root=\"data\",\n",
    "            train=False,\n",
    "            download=True,\n",
    "            transform=ToTensor()\n",
    ")\n",
    "\n",
    "# Split train and valid data\n",
    "torch.manual_seed(42)\n",
    "train_size = int(0.8 * len(train_data_full))  \n",
    "valid_size = len(train_data_full) - train_size  \n",
    "train_data, valid_data = torch.utils.data.random_split(train_data_full, [train_size, valid_size])\n",
    "\n",
    "# Create dataloader with batch size 32\n",
    "BATCH_SIZE=32\n",
    "train_loader = DataLoader(train_data, batch_size=BATCH_SIZE, shuffle=True)\n",
    "valid_loader = DataLoader(valid_data, batch_size=BATCH_SIZE)\n",
    "test_loader = DataLoader(test_data, batch_size=BATCH_SIZE)"
   ]
  },
  {
   "cell_type": "code",
   "execution_count": 2,
   "metadata": {},
   "outputs": [
    {
     "name": "stdout",
     "output_type": "stream",
     "text": [
      "Length of train dataloader: 1250 batches of 32\n",
      "Length of valid dataloader: 313 batches of 32\n",
      "Length of test dataloader: 313 batches of 32\n"
     ]
    }
   ],
   "source": [
    "# Check out batch contents\n",
    "print(f\"Length of train dataloader: {len(train_loader)} batches of {BATCH_SIZE}\")\n",
    "print(f\"Length of valid dataloader: {len(valid_loader)} batches of {BATCH_SIZE}\")\n",
    "print(f\"Length of test dataloader: {len(test_loader)} batches of {BATCH_SIZE}\")"
   ]
  },
  {
   "cell_type": "markdown",
   "metadata": {},
   "source": [
    "## Task 1.2: Implementing and training the LeNet-5 model - 3 marks\n",
    "\n",
    "The architecture you need to implement is specified as follows:\n",
    "\n",
    "Layers: [5x5 Conv] -> [2x2 Pooling] -> [5x5 Conv] -> [2x2 Pooling] -> [FC 120] -> [FC 84] -> [FC 10]\n",
    "The convolution layers have no stride (i.e., stride = 1) and valid padding.\n",
    "The pooling layers use average pooling with no stride and valid padding.\n",
    "All convolution layers and fully-connected layers have a ReLU activation (except the output layer).\n",
    "The input image shape is 32x32x3 (RGB images).\n",
    "\n",
    "**Task deliverables**:\n",
    "- Define a model that implements the LeNet-5 architecture described above.\n",
    "- Train the model using the following settings:\n",
    "    - Optimiser: ADAM\n",
    "    - Learning rate = 0.001\n",
    "    - Loss: categorical crossentropy\n",
    "    - Metric: accuracy\n",
    "    - Epochs: 20\n",
    "- Display the training and validation loss and accuracy curves.\n",
    "- Compute and display the accuracy of the model on the test set.\n",
    "\n",
    "Important notes: \n",
    "- It is recommended to use a Colab GPU runtime (or your own GPU if it is setup for it) to train the model.\n",
    "- If using PyTorch, be mindful of the combination of output layer activation function and loss you use (see Lectutorial 3)."
   ]
  },
  {
   "cell_type": "code",
   "execution_count": 3,
   "metadata": {},
   "outputs": [
    {
     "data": {
      "text/plain": [
       "'mps'"
      ]
     },
     "execution_count": 3,
     "metadata": {},
     "output_type": "execute_result"
    }
   ],
   "source": [
    "# Setup device agonistic code\n",
    "if torch.cuda.is_available():\n",
    "    device = \"cuda\"\n",
    "elif torch.backends.mps.is_available():\n",
    "    device = \"mps\"\n",
    "else:\n",
    "    device = \"cpu\"\n",
    "\n",
    "device"
   ]
  },
  {
   "cell_type": "code",
   "execution_count": 4,
   "metadata": {},
   "outputs": [],
   "source": [
    "import torch\n",
    "import torch.nn as nn\n",
    "\n",
    "class LeNet5(nn.Module):\n",
    "    def __init__(self):\n",
    "        super(LeNet5, self).__init__()\n",
    "\n",
    "        self.feature = nn.Sequential(\n",
    "            nn.Conv2d(in_channels=3, out_channels=6, kernel_size=5, stride=1, padding=0),  # Conv1\n",
    "            nn.ReLU(),\n",
    "            nn.AvgPool2d(kernel_size=2, stride=2, padding=0),                               # Pool1\n",
    "\n",
    "            nn.Conv2d(in_channels=6, out_channels=16, kernel_size=5, stride=1, padding=0), # Conv2\n",
    "            nn.ReLU(),\n",
    "            nn.AvgPool2d(kernel_size=2, stride=2, padding=0)                                # Pool2\n",
    "        )\n",
    "\n",
    "        self.classifier = nn.Sequential(\n",
    "            nn.Flatten(),                                       # Flatten\n",
    "            nn.Linear(in_features=16*5*5, out_features=120),    # FC1\n",
    "            nn.ReLU(),\n",
    "            nn.Linear(in_features=120, out_features=84),        # FC2\n",
    "            nn.ReLU(),\n",
    "            nn.Linear(in_features=84, out_features=10)          # FC3 (Output layer, no activation)\n",
    "        )\n",
    "\n",
    "    def forward(self, x):\n",
    "        x = self.feature(x)\n",
    "        x = self.classifier(x)\n",
    "        return x\n",
    "\n",
    "model = LeNet5()"
   ]
  },
  {
   "cell_type": "code",
   "execution_count": 5,
   "metadata": {},
   "outputs": [],
   "source": [
    "# # Get summary of the model\n",
    "# from torchsummary import summary\n",
    "# model.to(\"cpu\")\n",
    "# summary(model, (3, 32, 32), device=\"cpu\")"
   ]
  },
  {
   "cell_type": "code",
   "execution_count": 7,
   "metadata": {},
   "outputs": [],
   "source": [
    "# Training function returning train and valid losses and evaluation metrics\n",
    "def train(model, optimizer, loss_fn, eval_metric, train_loader, valid_loader, n_epochs):\n",
    "    train_losses = []\n",
    "    train_eval_metrics = []\n",
    "    valid_losses = []\n",
    "    valid_eval_metrics= []\n",
    "\n",
    "    for epoch in range(n_epochs):\n",
    "\n",
    "        #Training\n",
    "        eval_metric.reset() # Reset the eval metric\n",
    "        model.train()\n",
    "        epoch_train_loss = 0.\n",
    "        for X_train_batch, y_train_batch in train_loader:\n",
    "            X_train_batch, y_train_batch = X_train_batch.to(device), y_train_batch.to(device)\n",
    "            y_train_pred = model(X_train_batch)\n",
    "            train_loss = loss_fn(y_train_pred, y_train_batch)\n",
    "            epoch_train_loss += train_loss.item()\n",
    "            train_loss.backward()\n",
    "            eval_metric.update(y_train_pred, y_train_batch) # Update eval metric for training\n",
    "            optimizer.step()\n",
    "            optimizer.zero_grad()\n",
    "        mean_epoch_train_loss = epoch_train_loss / len(train_loader)\n",
    "        train_losses.append(mean_epoch_train_loss)\n",
    "        # Calculte and store training eval metric for this epoch\n",
    "        epoch_training_eval_metric = eval_metric.compute().item()\n",
    "        train_eval_metrics.append(epoch_training_eval_metric)\n",
    "\n",
    "        # Model evaluation\n",
    "        model.eval()\n",
    "        eval_metric.reset() # Reset the eval metric\n",
    "        epoch_valid_loss = 0.\n",
    "        with torch.no_grad():\n",
    "            for X_valid_batch, y_valid_batch in valid_loader:\n",
    "                X_valid_batch, y_valid_batch = X_valid_batch.to(device), y_valid_batch.to(device)\n",
    "                y_valid_pred = model(X_valid_batch)\n",
    "                valid_loss = loss_fn(y_valid_pred, y_valid_batch)\n",
    "                epoch_valid_loss += valid_loss.item()  # Update eval metric for validation\n",
    "                eval_metric.update(y_valid_pred, y_valid_batch)\n",
    "        mean_epoch_valid_loss = epoch_valid_loss / len(valid_loader)\n",
    "        valid_losses.append(mean_epoch_valid_loss)\n",
    "        # Calculte and store validation eval metric for this epoch\n",
    "        epoch_valid_eval_metric = eval_metric.compute().item()\n",
    "        valid_eval_metrics.append(epoch_valid_eval_metric)\n",
    "\n",
    "        print(f\"Epoch {epoch + 1}/{n_epochs}, Training Loss: {mean_epoch_train_loss:.4f}, Valid Loss: {mean_epoch_valid_loss:.4f}\")\n",
    "        print(f\"Epoch {epoch + 1}/{n_epochs}, Training Eval Metric: {epoch_training_eval_metric:.4f}, Valid Eval Metric: {epoch_valid_eval_metric:.4f}\")\n",
    "\n",
    "    return (train_losses, valid_losses, train_eval_metrics, valid_eval_metrics)"
   ]
  },
  {
   "cell_type": "code",
   "execution_count": 8,
   "metadata": {},
   "outputs": [],
   "source": [
    "# Function to evaluate the model on the test set (evaluation metric only)\n",
    "def evaluate_test_set(model, eval_metric, test_loader, metric_print):\n",
    "    model.eval()\n",
    "    eval_metric.reset() # Reset the eval metric\n",
    "    test_loss = 0.\n",
    "    with torch.no_grad():\n",
    "      model.eval()\n",
    "      eval_metric.reset() # Reset the eval metric\n",
    "      total_test_loss = 0.\n",
    "      with torch.no_grad():\n",
    "          for X_test_batch, y_test_batch in test_loader:\n",
    "              X_test_batch, y_test_batch = X_test_batch.to(device), y_test_batch.to(device)\n",
    "              y_test_logits = model(X_test_batch)\n",
    "              y_test_preds = torch.argmax(y_test_logits, dim=1)\n",
    "              eval_metric.update(y_test_preds, y_test_batch)\n",
    "      total_test_eval_metric = eval_metric.compute().item()\n",
    "\n",
    "      print(f\"Test {metric_print}: {total_test_eval_metric:.4f}\")"
   ]
  },
  {
   "cell_type": "code",
   "execution_count": 9,
   "metadata": {},
   "outputs": [
    {
     "name": "stdout",
     "output_type": "stream",
     "text": [
      "Epoch 1/5, Training Loss: 1.8291, Valid Loss: 1.6406\n",
      "Epoch 1/5, Training Eval Metric: 0.3243, Valid Eval Metric: 0.4102\n",
      "Epoch 2/5, Training Loss: 1.5563, Valid Loss: 1.4686\n",
      "Epoch 2/5, Training Eval Metric: 0.4353, Valid Eval Metric: 0.4785\n",
      "Epoch 3/5, Training Loss: 1.4575, Valid Loss: 1.4334\n",
      "Epoch 3/5, Training Eval Metric: 0.4757, Valid Eval Metric: 0.4869\n",
      "Epoch 4/5, Training Loss: 1.3868, Valid Loss: 1.3757\n",
      "Epoch 4/5, Training Eval Metric: 0.5003, Valid Eval Metric: 0.5051\n",
      "Epoch 5/5, Training Loss: 1.3307, Valid Loss: 1.3460\n",
      "Epoch 5/5, Training Eval Metric: 0.5235, Valid Eval Metric: 0.5159\n"
     ]
    }
   ],
   "source": [
    "# Define loss (cross entropy), evaluation metric (accuracy), optimiser, number of epochs, and launch the training\n",
    "import torchmetrics\n",
    "xentropy = nn.CrossEntropyLoss()\n",
    "accuracy = torchmetrics.Accuracy(task=\"multiclass\", num_classes=10).to(device)\n",
    "optimizer = torch.optim.Adam(model.parameters(), lr=0.001)\n",
    "n_epochs = 5\n",
    "train_losses, valid_losses, train_accuracy, valid_accuracy = train(model, optimizer, xentropy, accuracy, train_loader, valid_loader, n_epochs)"
   ]
  },
  {
   "cell_type": "code",
   "execution_count": 10,
   "metadata": {},
   "outputs": [
    {
     "data": {
      "image/png": "[encoded data removed]",
      "text/plain": [
       "<Figure size 640x480 with 1 Axes>"
      ]
     },
     "metadata": {},
     "output_type": "display_data"
    },
    {
     "data": {
      "image/png": "[encoded data removed]",
      "text/plain": [
       "<Figure size 640x480 with 1 Axes>"
      ]
     },
     "metadata": {},
     "output_type": "display_data"
    }
   ],
   "source": [
    "# Plot losses and accuracy\n",
    "import matplotlib.pyplot as plt\n",
    "plt.plot(train_losses, label='Training loss')\n",
    "plt.plot(valid_losses, label='Validation loss')\n",
    "plt.grid()\n",
    "plt.legend()\n",
    "plt.show()\n",
    "plt.plot(train_accuracy, label='Training accuracy')\n",
    "plt.plot(valid_accuracy, label='Validation accuracy')\n",
    "plt.grid()\n",
    "plt.legend()\n",
    "plt.show()"
   ]
  },
  {
   "cell_type": "code",
   "execution_count": 11,
   "metadata": {},
   "outputs": [
    {
     "name": "stdout",
     "output_type": "stream",
     "text": [
      "Test accuracy: 0.5123\n"
     ]
    }
   ],
   "source": [
    "# Evalutes the model on the test set\n",
    "evaluate_test_set(model, accuracy, test_loader, \"accuracy\")"
   ]
  },
  {
   "cell_type": "markdown",
   "metadata": {},
   "source": [
    "## Task 1.3: Discuss the model's performance - 1 mark\n",
    "\n",
    "**Task deliverable**:\n",
    "- Discuss the model's perfomance using the architecture and training settings in Task 1.2 (100 words max). "
   ]
  },
  {
   "cell_type": "markdown",
   "metadata": {},
   "source": [
    "Test accuracy is only around 0.5865, which is not good enough."
   ]
  },
  {
   "cell_type": "markdown",
   "metadata": {
    "id": "LxYOcu3pK_Xq"
   },
   "source": [
    "# Part 2: Improve on the baseline - 5 marks"
   ]
  },
  {
   "cell_type": "markdown",
   "metadata": {},
   "source": [
    "## Task 2.1: Improve the accuracy of the model - 2.5 marks\n",
    "\n",
    "Starting from the LeNet-5 architecture you used in part 1, implement *at least* 3 changes to improve the performance of the model. For this task, the model's performance is primarily measured as the validation and test accuracy for the final model. \n",
    "\n",
    "**Task deliverables**: \n",
    "- Implement at least 3 changes in your model or the training process from Task 1, to improve the performance of the trained model.\n",
    "- Show experimentally that your new model has a better performance than the baseline.\n",
    "- 1 mark out of 2.5 is given for the level of accuracy of your improved model:\n",
    "    - 1 mark if your model's test >= 70%.\n",
    "    - 0.5 mark if your model's test accuracy is >= 60% and < 70%.\n",
    "    - 0 mark if your model's test accuracy is < 60%.\n",
    "\n",
    "*Notes*: \n",
    "- Each change should focus on different aspect of the model and/or training process. I.e., if change 1 is adding 1 extra convolution layer and change 2 is adding 2 extra convolution layers, they are not considered different change choices. Both are about adding more convolution layers in the network.\n",
    "- You do not need to train a much deeper network to get a better performance. I.e., try to keep the training time reasonable to be able to experiment with several choices. \n",
    "- You can use what we covered in past tutorials, as well as your own research to make choices about what changes are likely to improve the model's performance.\n",
    "- For this task, we use accuracy to evaluate the model's performance, but remember that a model's performance can include other criteria depending on the task and your goal (e.g., reduced overfitting, lesser training time with similar accuracy, better recall on imbalanced data, etc). "
   ]
  },
  {
   "cell_type": "code",
   "execution_count": 77,
   "metadata": {},
   "outputs": [],
   "source": [
    "# Let's redefine our model and try it again\n",
    "import torch\n",
    "import torch.nn as nn\n",
    "\n",
    "class LeNet5_V1(nn.Module):\n",
    "    def __init__(self):\n",
    "        super(LeNet5_V1, self).__init__()\n",
    "\n",
    "        self.feature = nn.Sequential(\n",
    "            nn.Conv2d(in_channels=3, out_channels=32, kernel_size=3, stride=1, padding=1),  # Conv1 (2x2)\n",
    "            nn.BatchNorm2d(32),\n",
    "            nn.ReLU(),\n",
    "            nn.MaxPool2d(kernel_size=2, stride=2),\n",
    "\n",
    "            nn.Conv2d(in_channels=32, out_channels=64, kernel_size=3, stride=1, padding=1),  # Conv2 (3x3)\n",
    "            nn.BatchNorm2d(64),\n",
    "            nn.ReLU(),\n",
    "            nn.MaxPool2d(kernel_size=2, stride=2),\n",
    "\n",
    "            nn.Conv2d(in_channels=64, out_channels=128, kernel_size=3, stride=1, padding=1),  # Conv2 (3x3)\n",
    "            nn.BatchNorm2d(128),\n",
    "            nn.ReLU(),\n",
    "            nn.MaxPool2d(kernel_size=2, stride=2)\n",
    "\n",
    "        )\n",
    "\n",
    "        self.classifier = nn.Sequential(\n",
    "            nn.Flatten(),\n",
    "            nn.Linear(128 * 4 * 4, 240),  \n",
    "            nn.ReLU(),\n",
    "            nn.Dropout(0.1),\n",
    "\n",
    "            nn.Linear(240, 160),\n",
    "            nn.ReLU(),\n",
    "            nn.Dropout(0.1),\n",
    "\n",
    "            nn.Linear(160, 110),\n",
    "            nn.ReLU(),\n",
    "            nn.Dropout(0.1),\n",
    "\n",
    "            nn.Linear(110, 10)\n",
    "        )\n",
    "\n",
    "    def forward(self, x):\n",
    "        x = self.feature(x)\n",
    "        # print(f\"output shape is: {x.shape}\")\n",
    "        x = self.classifier(x)\n",
    "        #print(f\"output shape is: {x.shape}\")\n",
    "        return x\n",
    "\n",
    "model = LeNet5_V1()"
   ]
  },
  {
   "cell_type": "code",
   "execution_count": 78,
   "metadata": {},
   "outputs": [
    {
     "name": "stdout",
     "output_type": "stream",
     "text": [
      "Epoch 1/20, Training Loss: 1.4011, Valid Loss: 1.1172\n",
      "Epoch 1/20, Training Eval Metric: 0.4865, Valid Eval Metric: 0.5977\n",
      "Epoch 2/20, Training Loss: 1.0210, Valid Loss: 0.9814\n",
      "Epoch 2/20, Training Eval Metric: 0.6390, Valid Eval Metric: 0.6512\n",
      "Epoch 3/20, Training Loss: 0.8631, Valid Loss: 0.9055\n",
      "Epoch 3/20, Training Eval Metric: 0.7009, Valid Eval Metric: 0.6934\n",
      "Epoch 4/20, Training Loss: 0.7597, Valid Loss: 0.7840\n",
      "Epoch 4/20, Training Eval Metric: 0.7372, Valid Eval Metric: 0.7252\n",
      "Epoch 5/20, Training Loss: 0.6815, Valid Loss: 0.7822\n",
      "Epoch 5/20, Training Eval Metric: 0.7649, Valid Eval Metric: 0.7268\n",
      "Epoch 6/20, Training Loss: 0.6102, Valid Loss: 0.7509\n",
      "Epoch 6/20, Training Eval Metric: 0.7893, Valid Eval Metric: 0.7394\n",
      "Epoch 7/20, Training Loss: 0.5498, Valid Loss: 0.8880\n",
      "Epoch 7/20, Training Eval Metric: 0.8105, Valid Eval Metric: 0.7197\n",
      "Epoch 8/20, Training Loss: 0.4939, Valid Loss: 1.0403\n",
      "Epoch 8/20, Training Eval Metric: 0.8301, Valid Eval Metric: 0.6955\n",
      "Epoch 9/20, Training Loss: 0.4441, Valid Loss: 0.7260\n",
      "Epoch 9/20, Training Eval Metric: 0.8471, Valid Eval Metric: 0.7707\n",
      "Epoch 10/20, Training Loss: 0.3920, Valid Loss: 0.7098\n",
      "Epoch 10/20, Training Eval Metric: 0.8648, Valid Eval Metric: 0.7757\n",
      "Epoch 11/20, Training Loss: 0.3575, Valid Loss: 0.7153\n",
      "Epoch 11/20, Training Eval Metric: 0.8753, Valid Eval Metric: 0.7759\n",
      "Epoch 12/20, Training Loss: 0.3227, Valid Loss: 0.7490\n",
      "Epoch 12/20, Training Eval Metric: 0.8877, Valid Eval Metric: 0.7716\n",
      "Epoch 13/20, Training Loss: 0.2938, Valid Loss: 0.7904\n",
      "Epoch 13/20, Training Eval Metric: 0.8996, Valid Eval Metric: 0.7676\n",
      "Epoch 14/20, Training Loss: 0.2692, Valid Loss: 0.7654\n",
      "Epoch 14/20, Training Eval Metric: 0.9067, Valid Eval Metric: 0.7790\n",
      "Epoch 15/20, Training Loss: 0.2482, Valid Loss: 0.8198\n",
      "Epoch 15/20, Training Eval Metric: 0.9151, Valid Eval Metric: 0.7706\n",
      "Epoch 16/20, Training Loss: 0.2366, Valid Loss: 0.8193\n",
      "Epoch 16/20, Training Eval Metric: 0.9193, Valid Eval Metric: 0.7723\n",
      "Epoch 17/20, Training Loss: 0.2169, Valid Loss: 0.8235\n",
      "Epoch 17/20, Training Eval Metric: 0.9252, Valid Eval Metric: 0.7662\n",
      "Epoch 18/20, Training Loss: 0.1989, Valid Loss: 0.9480\n",
      "Epoch 18/20, Training Eval Metric: 0.9317, Valid Eval Metric: 0.7605\n",
      "Epoch 19/20, Training Loss: 0.1884, Valid Loss: 0.9446\n",
      "Epoch 19/20, Training Eval Metric: 0.9356, Valid Eval Metric: 0.7562\n",
      "Epoch 20/20, Training Loss: 0.1758, Valid Loss: 0.8817\n",
      "Epoch 20/20, Training Eval Metric: 0.9404, Valid Eval Metric: 0.7727\n"
     ]
    }
   ],
   "source": [
    "# Define loss (cross entropy), evaluation metric (accuracy), optimiser, number of epochs, and launch the training\n",
    "model.to(device)\n",
    "xentropy = nn.CrossEntropyLoss()\n",
    "accuracy = torchmetrics.Accuracy(task=\"multiclass\", num_classes=10).to(device)\n",
    "optimizer = torch.optim.Adam(model.parameters(), lr=0.001, weight_decay=1e-4)\n",
    "n_epochs = 20\n",
    "train_losses, valid_losses, train_accuracy, valid_accuracy = train(model, optimizer, xentropy, accuracy, train_loader, valid_loader, n_epochs)"
   ]
  },
  {
   "cell_type": "code",
   "execution_count": 79,
   "metadata": {},
   "outputs": [
    {
     "name": "stdout",
     "output_type": "stream",
     "text": [
      "Test accuracy: 0.7688\n"
     ]
    }
   ],
   "source": [
    "# Evalutes the model on the test set\n",
    "evaluate_test_set(model, accuracy, test_loader, \"accuracy\")"
   ]
  },
  {
   "cell_type": "code",
   "execution_count": null,
   "metadata": {},
   "outputs": [],
   "source": []
  },
  {
   "cell_type": "markdown",
   "metadata": {},
   "source": [
    "## Task 2.2: Report on your changes - 2.5 marks\n",
    "\n",
    "**Task deliverables**:\n",
    "- Write a brief report (max. 300 words), answering the following questions:\n",
    "    - Why do you think the changes you made in Task 2.1 led to a higher test accuracy?\n",
    "    - What else could you try to improve your model if you had more time and/or more computational resources?"
   ]
  }
 ],
 "metadata": {
  "accelerator": "GPU",
  "colab": {
   "authorship_tag": "ABX9TyPTaeoBbcYfAE/pF9pbJzoX",
   "gpuType": "T4",
   "provenance": []
  },
  "kernelspec": {
   "display_name": "Python 3 (ipykernel)",
   "language": "python",
   "name": "python3"
  },
  "language_info": {
   "codemirror_mode": {
    "name": "ipython",
    "version": 3
   },
   "file_extension": ".py",
   "mimetype": "text/x-python",
   "name": "python",
   "nbconvert_exporter": "python",
   "pygments_lexer": "ipython3",
   "version": "3.12.8"
  }
 },
 "nbformat": 4,
 "nbformat_minor": 4
}
